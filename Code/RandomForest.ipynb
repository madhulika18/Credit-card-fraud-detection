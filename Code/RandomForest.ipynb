{
  "cells": [
    {
      "cell_type": "markdown",
      "metadata": {
        "id": "j8bWxmz6jMOE"
      },
      "source": [
        "# 1. Import libraries"
      ]
    },
    {
      "cell_type": "code",
      "execution_count": 1,
      "metadata": {
        "id": "xbyfX5bB1s0b"
      },
      "outputs": [],
      "source": [
        "import pandas as pd\n",
        "import numpy as np\n",
        "from sklearn.model_selection import train_test_split\n",
        "from sklearn.ensemble import RandomForestClassifier\n",
        "from sklearn.metrics import accuracy_score, classification_report, confusion_matrix\n",
        "import matplotlib.pyplot as plt\n",
        "import seaborn as sns"
      ]
    },
    {
      "cell_type": "markdown",
      "metadata": {
        "id": "5MWMDZwbke95"
      },
      "source": [
        "# 2. Load dataset\n",
        "\n",
        "The creditcard.csv dataset contains details of 284,807 transactions out of which 492 are fraudulent transactions.\n",
        "\n",
        "The dataset is highly unbalanced, the positive class (frauds) account for 0.172% of all transactions.\n",
        "\n",
        "* Data has 31 features from V1-V28 & Time, Amount and Class\n",
        "\n",
        "* Input features: V1-V28, Time and Amount\n",
        "\n",
        "* Target variable: Class"
      ]
    },
    {
      "cell_type": "code",
      "execution_count": 2,
      "metadata": {
        "id": "JfXYIuA71yT2"
      },
      "outputs": [],
      "source": [
        "# Load dataset\n",
        "df = pd.read_csv('/content/sample_data/creditcard.csv')"
      ]
    },
    {
      "cell_type": "markdown",
      "metadata": {
        "id": "3tmyTXwjjglT"
      },
      "source": [
        "Display the top 15 rows of the dataframe"
      ]
    },
    {
      "cell_type": "code",
      "execution_count": 3,
      "metadata": {
        "colab": {
          "base_uri": "https://localhost:8080/",
          "height": 569
        },
        "id": "X1fg7oIe1yQW",
        "outputId": "f75ba8b3-22c9-464c-e9d7-5ded2ba120e7"
      },
      "outputs": [
        {
          "output_type": "execute_result",
          "data": {
            "text/plain": [
              "    Time        V1        V2        V3        V4        V5        V6  \\\n",
              "0    0.0 -1.359807 -0.072781  2.536347  1.378155 -0.338321  0.462388   \n",
              "1    0.0  1.191857  0.266151  0.166480  0.448154  0.060018 -0.082361   \n",
              "2    1.0 -1.358354 -1.340163  1.773209  0.379780 -0.503198  1.800499   \n",
              "3    1.0 -0.966272 -0.185226  1.792993 -0.863291 -0.010309  1.247203   \n",
              "4    2.0 -1.158233  0.877737  1.548718  0.403034 -0.407193  0.095921   \n",
              "5    2.0 -0.425966  0.960523  1.141109 -0.168252  0.420987 -0.029728   \n",
              "6    4.0  1.229658  0.141004  0.045371  1.202613  0.191881  0.272708   \n",
              "7    7.0 -0.644269  1.417964  1.074380 -0.492199  0.948934  0.428118   \n",
              "8    7.0 -0.894286  0.286157 -0.113192 -0.271526  2.669599  3.721818   \n",
              "9    9.0 -0.338262  1.119593  1.044367 -0.222187  0.499361 -0.246761   \n",
              "10  10.0  1.449044 -1.176339  0.913860 -1.375667 -1.971383 -0.629152   \n",
              "11  10.0  0.384978  0.616109 -0.874300 -0.094019  2.924584  3.317027   \n",
              "12  10.0  1.249999 -1.221637  0.383930 -1.234899 -1.485419 -0.753230   \n",
              "13  11.0  1.069374  0.287722  0.828613  2.712520 -0.178398  0.337544   \n",
              "14  12.0 -2.791855 -0.327771  1.641750  1.767473 -0.136588  0.807596   \n",
              "\n",
              "          V7        V8        V9  ...       V21       V22       V23       V24  \\\n",
              "0   0.239599  0.098698  0.363787  ... -0.018307  0.277838 -0.110474  0.066928   \n",
              "1  -0.078803  0.085102 -0.255425  ... -0.225775 -0.638672  0.101288 -0.339846   \n",
              "2   0.791461  0.247676 -1.514654  ...  0.247998  0.771679  0.909412 -0.689281   \n",
              "3   0.237609  0.377436 -1.387024  ... -0.108300  0.005274 -0.190321 -1.175575   \n",
              "4   0.592941 -0.270533  0.817739  ... -0.009431  0.798278 -0.137458  0.141267   \n",
              "5   0.476201  0.260314 -0.568671  ... -0.208254 -0.559825 -0.026398 -0.371427   \n",
              "6  -0.005159  0.081213  0.464960  ... -0.167716 -0.270710 -0.154104 -0.780055   \n",
              "7   1.120631 -3.807864  0.615375  ...  1.943465 -1.015455  0.057504 -0.649709   \n",
              "8   0.370145  0.851084 -0.392048  ... -0.073425 -0.268092 -0.204233  1.011592   \n",
              "9   0.651583  0.069539 -0.736727  ... -0.246914 -0.633753 -0.120794 -0.385050   \n",
              "10 -1.423236  0.048456 -1.720408  ... -0.009302  0.313894  0.027740  0.500512   \n",
              "11  0.470455  0.538247 -0.558895  ...  0.049924  0.238422  0.009130  0.996710   \n",
              "12 -0.689405 -0.227487 -2.094011  ... -0.231809 -0.483285  0.084668  0.392831   \n",
              "13 -0.096717  0.115982 -0.221083  ... -0.036876  0.074412 -0.071407  0.104744   \n",
              "14 -0.422911 -1.907107  0.755713  ...  1.151663  0.222182  1.020586  0.028317   \n",
              "\n",
              "         V25       V26       V27       V28  Amount  Class  \n",
              "0   0.128539 -0.189115  0.133558 -0.021053  149.62      0  \n",
              "1   0.167170  0.125895 -0.008983  0.014724    2.69      0  \n",
              "2  -0.327642 -0.139097 -0.055353 -0.059752  378.66      0  \n",
              "3   0.647376 -0.221929  0.062723  0.061458  123.50      0  \n",
              "4  -0.206010  0.502292  0.219422  0.215153   69.99      0  \n",
              "5  -0.232794  0.105915  0.253844  0.081080    3.67      0  \n",
              "6   0.750137 -0.257237  0.034507  0.005168    4.99      0  \n",
              "7  -0.415267 -0.051634 -1.206921 -1.085339   40.80      0  \n",
              "8   0.373205 -0.384157  0.011747  0.142404   93.20      0  \n",
              "9  -0.069733  0.094199  0.246219  0.083076    3.68      0  \n",
              "10  0.251367 -0.129478  0.042850  0.016253    7.80      0  \n",
              "11 -0.767315 -0.492208  0.042472 -0.054337    9.99      0  \n",
              "12  0.161135 -0.354990  0.026416  0.042422  121.50      0  \n",
              "13  0.548265  0.104094  0.021491  0.021293   27.50      0  \n",
              "14 -0.232746 -0.235557 -0.164778 -0.030154   58.80      0  \n",
              "\n",
              "[15 rows x 31 columns]"
            ],
            "text/html": [
              "\n",
              "  <div id=\"df-385ae094-07e3-4590-8010-b0be79caa57b\" class=\"colab-df-container\">\n",
              "    <div>\n",
              "<style scoped>\n",
              "    .dataframe tbody tr th:only-of-type {\n",
              "        vertical-align: middle;\n",
              "    }\n",
              "\n",
              "    .dataframe tbody tr th {\n",
              "        vertical-align: top;\n",
              "    }\n",
              "\n",
              "    .dataframe thead th {\n",
              "        text-align: right;\n",
              "    }\n",
              "</style>\n",
              "<table border=\"1\" class=\"dataframe\">\n",
              "  <thead>\n",
              "    <tr style=\"text-align: right;\">\n",
              "      <th></th>\n",
              "      <th>Time</th>\n",
              "      <th>V1</th>\n",
              "      <th>V2</th>\n",
              "      <th>V3</th>\n",
              "      <th>V4</th>\n",
              "      <th>V5</th>\n",
              "      <th>V6</th>\n",
              "      <th>V7</th>\n",
              "      <th>V8</th>\n",
              "      <th>V9</th>\n",
              "      <th>...</th>\n",
              "      <th>V21</th>\n",
              "      <th>V22</th>\n",
              "      <th>V23</th>\n",
              "      <th>V24</th>\n",
              "      <th>V25</th>\n",
              "      <th>V26</th>\n",
              "      <th>V27</th>\n",
              "      <th>V28</th>\n",
              "      <th>Amount</th>\n",
              "      <th>Class</th>\n",
              "    </tr>\n",
              "  </thead>\n",
              "  <tbody>\n",
              "    <tr>\n",
              "      <th>0</th>\n",
              "      <td>0.0</td>\n",
              "      <td>-1.359807</td>\n",
              "      <td>-0.072781</td>\n",
              "      <td>2.536347</td>\n",
              "      <td>1.378155</td>\n",
              "      <td>-0.338321</td>\n",
              "      <td>0.462388</td>\n",
              "      <td>0.239599</td>\n",
              "      <td>0.098698</td>\n",
              "      <td>0.363787</td>\n",
              "      <td>...</td>\n",
              "      <td>-0.018307</td>\n",
              "      <td>0.277838</td>\n",
              "      <td>-0.110474</td>\n",
              "      <td>0.066928</td>\n",
              "      <td>0.128539</td>\n",
              "      <td>-0.189115</td>\n",
              "      <td>0.133558</td>\n",
              "      <td>-0.021053</td>\n",
              "      <td>149.62</td>\n",
              "      <td>0</td>\n",
              "    </tr>\n",
              "    <tr>\n",
              "      <th>1</th>\n",
              "      <td>0.0</td>\n",
              "      <td>1.191857</td>\n",
              "      <td>0.266151</td>\n",
              "      <td>0.166480</td>\n",
              "      <td>0.448154</td>\n",
              "      <td>0.060018</td>\n",
              "      <td>-0.082361</td>\n",
              "      <td>-0.078803</td>\n",
              "      <td>0.085102</td>\n",
              "      <td>-0.255425</td>\n",
              "      <td>...</td>\n",
              "      <td>-0.225775</td>\n",
              "      <td>-0.638672</td>\n",
              "      <td>0.101288</td>\n",
              "      <td>-0.339846</td>\n",
              "      <td>0.167170</td>\n",
              "      <td>0.125895</td>\n",
              "      <td>-0.008983</td>\n",
              "      <td>0.014724</td>\n",
              "      <td>2.69</td>\n",
              "      <td>0</td>\n",
              "    </tr>\n",
              "    <tr>\n",
              "      <th>2</th>\n",
              "      <td>1.0</td>\n",
              "      <td>-1.358354</td>\n",
              "      <td>-1.340163</td>\n",
              "      <td>1.773209</td>\n",
              "      <td>0.379780</td>\n",
              "      <td>-0.503198</td>\n",
              "      <td>1.800499</td>\n",
              "      <td>0.791461</td>\n",
              "      <td>0.247676</td>\n",
              "      <td>-1.514654</td>\n",
              "      <td>...</td>\n",
              "      <td>0.247998</td>\n",
              "      <td>0.771679</td>\n",
              "      <td>0.909412</td>\n",
              "      <td>-0.689281</td>\n",
              "      <td>-0.327642</td>\n",
              "      <td>-0.139097</td>\n",
              "      <td>-0.055353</td>\n",
              "      <td>-0.059752</td>\n",
              "      <td>378.66</td>\n",
              "      <td>0</td>\n",
              "    </tr>\n",
              "    <tr>\n",
              "      <th>3</th>\n",
              "      <td>1.0</td>\n",
              "      <td>-0.966272</td>\n",
              "      <td>-0.185226</td>\n",
              "      <td>1.792993</td>\n",
              "      <td>-0.863291</td>\n",
              "      <td>-0.010309</td>\n",
              "      <td>1.247203</td>\n",
              "      <td>0.237609</td>\n",
              "      <td>0.377436</td>\n",
              "      <td>-1.387024</td>\n",
              "      <td>...</td>\n",
              "      <td>-0.108300</td>\n",
              "      <td>0.005274</td>\n",
              "      <td>-0.190321</td>\n",
              "      <td>-1.175575</td>\n",
              "      <td>0.647376</td>\n",
              "      <td>-0.221929</td>\n",
              "      <td>0.062723</td>\n",
              "      <td>0.061458</td>\n",
              "      <td>123.50</td>\n",
              "      <td>0</td>\n",
              "    </tr>\n",
              "    <tr>\n",
              "      <th>4</th>\n",
              "      <td>2.0</td>\n",
              "      <td>-1.158233</td>\n",
              "      <td>0.877737</td>\n",
              "      <td>1.548718</td>\n",
              "      <td>0.403034</td>\n",
              "      <td>-0.407193</td>\n",
              "      <td>0.095921</td>\n",
              "      <td>0.592941</td>\n",
              "      <td>-0.270533</td>\n",
              "      <td>0.817739</td>\n",
              "      <td>...</td>\n",
              "      <td>-0.009431</td>\n",
              "      <td>0.798278</td>\n",
              "      <td>-0.137458</td>\n",
              "      <td>0.141267</td>\n",
              "      <td>-0.206010</td>\n",
              "      <td>0.502292</td>\n",
              "      <td>0.219422</td>\n",
              "      <td>0.215153</td>\n",
              "      <td>69.99</td>\n",
              "      <td>0</td>\n",
              "    </tr>\n",
              "    <tr>\n",
              "      <th>5</th>\n",
              "      <td>2.0</td>\n",
              "      <td>-0.425966</td>\n",
              "      <td>0.960523</td>\n",
              "      <td>1.141109</td>\n",
              "      <td>-0.168252</td>\n",
              "      <td>0.420987</td>\n",
              "      <td>-0.029728</td>\n",
              "      <td>0.476201</td>\n",
              "      <td>0.260314</td>\n",
              "      <td>-0.568671</td>\n",
              "      <td>...</td>\n",
              "      <td>-0.208254</td>\n",
              "      <td>-0.559825</td>\n",
              "      <td>-0.026398</td>\n",
              "      <td>-0.371427</td>\n",
              "      <td>-0.232794</td>\n",
              "      <td>0.105915</td>\n",
              "      <td>0.253844</td>\n",
              "      <td>0.081080</td>\n",
              "      <td>3.67</td>\n",
              "      <td>0</td>\n",
              "    </tr>\n",
              "    <tr>\n",
              "      <th>6</th>\n",
              "      <td>4.0</td>\n",
              "      <td>1.229658</td>\n",
              "      <td>0.141004</td>\n",
              "      <td>0.045371</td>\n",
              "      <td>1.202613</td>\n",
              "      <td>0.191881</td>\n",
              "      <td>0.272708</td>\n",
              "      <td>-0.005159</td>\n",
              "      <td>0.081213</td>\n",
              "      <td>0.464960</td>\n",
              "      <td>...</td>\n",
              "      <td>-0.167716</td>\n",
              "      <td>-0.270710</td>\n",
              "      <td>-0.154104</td>\n",
              "      <td>-0.780055</td>\n",
              "      <td>0.750137</td>\n",
              "      <td>-0.257237</td>\n",
              "      <td>0.034507</td>\n",
              "      <td>0.005168</td>\n",
              "      <td>4.99</td>\n",
              "      <td>0</td>\n",
              "    </tr>\n",
              "    <tr>\n",
              "      <th>7</th>\n",
              "      <td>7.0</td>\n",
              "      <td>-0.644269</td>\n",
              "      <td>1.417964</td>\n",
              "      <td>1.074380</td>\n",
              "      <td>-0.492199</td>\n",
              "      <td>0.948934</td>\n",
              "      <td>0.428118</td>\n",
              "      <td>1.120631</td>\n",
              "      <td>-3.807864</td>\n",
              "      <td>0.615375</td>\n",
              "      <td>...</td>\n",
              "      <td>1.943465</td>\n",
              "      <td>-1.015455</td>\n",
              "      <td>0.057504</td>\n",
              "      <td>-0.649709</td>\n",
              "      <td>-0.415267</td>\n",
              "      <td>-0.051634</td>\n",
              "      <td>-1.206921</td>\n",
              "      <td>-1.085339</td>\n",
              "      <td>40.80</td>\n",
              "      <td>0</td>\n",
              "    </tr>\n",
              "    <tr>\n",
              "      <th>8</th>\n",
              "      <td>7.0</td>\n",
              "      <td>-0.894286</td>\n",
              "      <td>0.286157</td>\n",
              "      <td>-0.113192</td>\n",
              "      <td>-0.271526</td>\n",
              "      <td>2.669599</td>\n",
              "      <td>3.721818</td>\n",
              "      <td>0.370145</td>\n",
              "      <td>0.851084</td>\n",
              "      <td>-0.392048</td>\n",
              "      <td>...</td>\n",
              "      <td>-0.073425</td>\n",
              "      <td>-0.268092</td>\n",
              "      <td>-0.204233</td>\n",
              "      <td>1.011592</td>\n",
              "      <td>0.373205</td>\n",
              "      <td>-0.384157</td>\n",
              "      <td>0.011747</td>\n",
              "      <td>0.142404</td>\n",
              "      <td>93.20</td>\n",
              "      <td>0</td>\n",
              "    </tr>\n",
              "    <tr>\n",
              "      <th>9</th>\n",
              "      <td>9.0</td>\n",
              "      <td>-0.338262</td>\n",
              "      <td>1.119593</td>\n",
              "      <td>1.044367</td>\n",
              "      <td>-0.222187</td>\n",
              "      <td>0.499361</td>\n",
              "      <td>-0.246761</td>\n",
              "      <td>0.651583</td>\n",
              "      <td>0.069539</td>\n",
              "      <td>-0.736727</td>\n",
              "      <td>...</td>\n",
              "      <td>-0.246914</td>\n",
              "      <td>-0.633753</td>\n",
              "      <td>-0.120794</td>\n",
              "      <td>-0.385050</td>\n",
              "      <td>-0.069733</td>\n",
              "      <td>0.094199</td>\n",
              "      <td>0.246219</td>\n",
              "      <td>0.083076</td>\n",
              "      <td>3.68</td>\n",
              "      <td>0</td>\n",
              "    </tr>\n",
              "    <tr>\n",
              "      <th>10</th>\n",
              "      <td>10.0</td>\n",
              "      <td>1.449044</td>\n",
              "      <td>-1.176339</td>\n",
              "      <td>0.913860</td>\n",
              "      <td>-1.375667</td>\n",
              "      <td>-1.971383</td>\n",
              "      <td>-0.629152</td>\n",
              "      <td>-1.423236</td>\n",
              "      <td>0.048456</td>\n",
              "      <td>-1.720408</td>\n",
              "      <td>...</td>\n",
              "      <td>-0.009302</td>\n",
              "      <td>0.313894</td>\n",
              "      <td>0.027740</td>\n",
              "      <td>0.500512</td>\n",
              "      <td>0.251367</td>\n",
              "      <td>-0.129478</td>\n",
              "      <td>0.042850</td>\n",
              "      <td>0.016253</td>\n",
              "      <td>7.80</td>\n",
              "      <td>0</td>\n",
              "    </tr>\n",
              "    <tr>\n",
              "      <th>11</th>\n",
              "      <td>10.0</td>\n",
              "      <td>0.384978</td>\n",
              "      <td>0.616109</td>\n",
              "      <td>-0.874300</td>\n",
              "      <td>-0.094019</td>\n",
              "      <td>2.924584</td>\n",
              "      <td>3.317027</td>\n",
              "      <td>0.470455</td>\n",
              "      <td>0.538247</td>\n",
              "      <td>-0.558895</td>\n",
              "      <td>...</td>\n",
              "      <td>0.049924</td>\n",
              "      <td>0.238422</td>\n",
              "      <td>0.009130</td>\n",
              "      <td>0.996710</td>\n",
              "      <td>-0.767315</td>\n",
              "      <td>-0.492208</td>\n",
              "      <td>0.042472</td>\n",
              "      <td>-0.054337</td>\n",
              "      <td>9.99</td>\n",
              "      <td>0</td>\n",
              "    </tr>\n",
              "    <tr>\n",
              "      <th>12</th>\n",
              "      <td>10.0</td>\n",
              "      <td>1.249999</td>\n",
              "      <td>-1.221637</td>\n",
              "      <td>0.383930</td>\n",
              "      <td>-1.234899</td>\n",
              "      <td>-1.485419</td>\n",
              "      <td>-0.753230</td>\n",
              "      <td>-0.689405</td>\n",
              "      <td>-0.227487</td>\n",
              "      <td>-2.094011</td>\n",
              "      <td>...</td>\n",
              "      <td>-0.231809</td>\n",
              "      <td>-0.483285</td>\n",
              "      <td>0.084668</td>\n",
              "      <td>0.392831</td>\n",
              "      <td>0.161135</td>\n",
              "      <td>-0.354990</td>\n",
              "      <td>0.026416</td>\n",
              "      <td>0.042422</td>\n",
              "      <td>121.50</td>\n",
              "      <td>0</td>\n",
              "    </tr>\n",
              "    <tr>\n",
              "      <th>13</th>\n",
              "      <td>11.0</td>\n",
              "      <td>1.069374</td>\n",
              "      <td>0.287722</td>\n",
              "      <td>0.828613</td>\n",
              "      <td>2.712520</td>\n",
              "      <td>-0.178398</td>\n",
              "      <td>0.337544</td>\n",
              "      <td>-0.096717</td>\n",
              "      <td>0.115982</td>\n",
              "      <td>-0.221083</td>\n",
              "      <td>...</td>\n",
              "      <td>-0.036876</td>\n",
              "      <td>0.074412</td>\n",
              "      <td>-0.071407</td>\n",
              "      <td>0.104744</td>\n",
              "      <td>0.548265</td>\n",
              "      <td>0.104094</td>\n",
              "      <td>0.021491</td>\n",
              "      <td>0.021293</td>\n",
              "      <td>27.50</td>\n",
              "      <td>0</td>\n",
              "    </tr>\n",
              "    <tr>\n",
              "      <th>14</th>\n",
              "      <td>12.0</td>\n",
              "      <td>-2.791855</td>\n",
              "      <td>-0.327771</td>\n",
              "      <td>1.641750</td>\n",
              "      <td>1.767473</td>\n",
              "      <td>-0.136588</td>\n",
              "      <td>0.807596</td>\n",
              "      <td>-0.422911</td>\n",
              "      <td>-1.907107</td>\n",
              "      <td>0.755713</td>\n",
              "      <td>...</td>\n",
              "      <td>1.151663</td>\n",
              "      <td>0.222182</td>\n",
              "      <td>1.020586</td>\n",
              "      <td>0.028317</td>\n",
              "      <td>-0.232746</td>\n",
              "      <td>-0.235557</td>\n",
              "      <td>-0.164778</td>\n",
              "      <td>-0.030154</td>\n",
              "      <td>58.80</td>\n",
              "      <td>0</td>\n",
              "    </tr>\n",
              "  </tbody>\n",
              "</table>\n",
              "<p>15 rows × 31 columns</p>\n",
              "</div>\n",
              "    <div class=\"colab-df-buttons\">\n",
              "\n",
              "  <div class=\"colab-df-container\">\n",
              "    <button class=\"colab-df-convert\" onclick=\"convertToInteractive('df-385ae094-07e3-4590-8010-b0be79caa57b')\"\n",
              "            title=\"Convert this dataframe to an interactive table.\"\n",
              "            style=\"display:none;\">\n",
              "\n",
              "  <svg xmlns=\"http://www.w3.org/2000/svg\" height=\"24px\" viewBox=\"0 -960 960 960\">\n",
              "    <path d=\"M120-120v-720h720v720H120Zm60-500h600v-160H180v160Zm220 220h160v-160H400v160Zm0 220h160v-160H400v160ZM180-400h160v-160H180v160Zm440 0h160v-160H620v160ZM180-180h160v-160H180v160Zm440 0h160v-160H620v160Z\"/>\n",
              "  </svg>\n",
              "    </button>\n",
              "\n",
              "  <style>\n",
              "    .colab-df-container {\n",
              "      display:flex;\n",
              "      gap: 12px;\n",
              "    }\n",
              "\n",
              "    .colab-df-convert {\n",
              "      background-color: #E8F0FE;\n",
              "      border: none;\n",
              "      border-radius: 50%;\n",
              "      cursor: pointer;\n",
              "      display: none;\n",
              "      fill: #1967D2;\n",
              "      height: 32px;\n",
              "      padding: 0 0 0 0;\n",
              "      width: 32px;\n",
              "    }\n",
              "\n",
              "    .colab-df-convert:hover {\n",
              "      background-color: #E2EBFA;\n",
              "      box-shadow: 0px 1px 2px rgba(60, 64, 67, 0.3), 0px 1px 3px 1px rgba(60, 64, 67, 0.15);\n",
              "      fill: #174EA6;\n",
              "    }\n",
              "\n",
              "    .colab-df-buttons div {\n",
              "      margin-bottom: 4px;\n",
              "    }\n",
              "\n",
              "    [theme=dark] .colab-df-convert {\n",
              "      background-color: #3B4455;\n",
              "      fill: #D2E3FC;\n",
              "    }\n",
              "\n",
              "    [theme=dark] .colab-df-convert:hover {\n",
              "      background-color: #434B5C;\n",
              "      box-shadow: 0px 1px 3px 1px rgba(0, 0, 0, 0.15);\n",
              "      filter: drop-shadow(0px 1px 2px rgba(0, 0, 0, 0.3));\n",
              "      fill: #FFFFFF;\n",
              "    }\n",
              "  </style>\n",
              "\n",
              "    <script>\n",
              "      const buttonEl =\n",
              "        document.querySelector('#df-385ae094-07e3-4590-8010-b0be79caa57b button.colab-df-convert');\n",
              "      buttonEl.style.display =\n",
              "        google.colab.kernel.accessAllowed ? 'block' : 'none';\n",
              "\n",
              "      async function convertToInteractive(key) {\n",
              "        const element = document.querySelector('#df-385ae094-07e3-4590-8010-b0be79caa57b');\n",
              "        const dataTable =\n",
              "          await google.colab.kernel.invokeFunction('convertToInteractive',\n",
              "                                                    [key], {});\n",
              "        if (!dataTable) return;\n",
              "\n",
              "        const docLinkHtml = 'Like what you see? Visit the ' +\n",
              "          '<a target=\"_blank\" href=https://colab.research.google.com/notebooks/data_table.ipynb>data table notebook</a>'\n",
              "          + ' to learn more about interactive tables.';\n",
              "        element.innerHTML = '';\n",
              "        dataTable['output_type'] = 'display_data';\n",
              "        await google.colab.output.renderOutput(dataTable, element);\n",
              "        const docLink = document.createElement('div');\n",
              "        docLink.innerHTML = docLinkHtml;\n",
              "        element.appendChild(docLink);\n",
              "      }\n",
              "    </script>\n",
              "  </div>\n",
              "\n",
              "\n",
              "<div id=\"df-6c1f2526-14f4-4681-b161-71b325b36483\">\n",
              "  <button class=\"colab-df-quickchart\" onclick=\"quickchart('df-6c1f2526-14f4-4681-b161-71b325b36483')\"\n",
              "            title=\"Suggest charts\"\n",
              "            style=\"display:none;\">\n",
              "\n",
              "<svg xmlns=\"http://www.w3.org/2000/svg\" height=\"24px\"viewBox=\"0 0 24 24\"\n",
              "     width=\"24px\">\n",
              "    <g>\n",
              "        <path d=\"M19 3H5c-1.1 0-2 .9-2 2v14c0 1.1.9 2 2 2h14c1.1 0 2-.9 2-2V5c0-1.1-.9-2-2-2zM9 17H7v-7h2v7zm4 0h-2V7h2v10zm4 0h-2v-4h2v4z\"/>\n",
              "    </g>\n",
              "</svg>\n",
              "  </button>\n",
              "\n",
              "<style>\n",
              "  .colab-df-quickchart {\n",
              "      --bg-color: #E8F0FE;\n",
              "      --fill-color: #1967D2;\n",
              "      --hover-bg-color: #E2EBFA;\n",
              "      --hover-fill-color: #174EA6;\n",
              "      --disabled-fill-color: #AAA;\n",
              "      --disabled-bg-color: #DDD;\n",
              "  }\n",
              "\n",
              "  [theme=dark] .colab-df-quickchart {\n",
              "      --bg-color: #3B4455;\n",
              "      --fill-color: #D2E3FC;\n",
              "      --hover-bg-color: #434B5C;\n",
              "      --hover-fill-color: #FFFFFF;\n",
              "      --disabled-bg-color: #3B4455;\n",
              "      --disabled-fill-color: #666;\n",
              "  }\n",
              "\n",
              "  .colab-df-quickchart {\n",
              "    background-color: var(--bg-color);\n",
              "    border: none;\n",
              "    border-radius: 50%;\n",
              "    cursor: pointer;\n",
              "    display: none;\n",
              "    fill: var(--fill-color);\n",
              "    height: 32px;\n",
              "    padding: 0;\n",
              "    width: 32px;\n",
              "  }\n",
              "\n",
              "  .colab-df-quickchart:hover {\n",
              "    background-color: var(--hover-bg-color);\n",
              "    box-shadow: 0 1px 2px rgba(60, 64, 67, 0.3), 0 1px 3px 1px rgba(60, 64, 67, 0.15);\n",
              "    fill: var(--button-hover-fill-color);\n",
              "  }\n",
              "\n",
              "  .colab-df-quickchart-complete:disabled,\n",
              "  .colab-df-quickchart-complete:disabled:hover {\n",
              "    background-color: var(--disabled-bg-color);\n",
              "    fill: var(--disabled-fill-color);\n",
              "    box-shadow: none;\n",
              "  }\n",
              "\n",
              "  .colab-df-spinner {\n",
              "    border: 2px solid var(--fill-color);\n",
              "    border-color: transparent;\n",
              "    border-bottom-color: var(--fill-color);\n",
              "    animation:\n",
              "      spin 1s steps(1) infinite;\n",
              "  }\n",
              "\n",
              "  @keyframes spin {\n",
              "    0% {\n",
              "      border-color: transparent;\n",
              "      border-bottom-color: var(--fill-color);\n",
              "      border-left-color: var(--fill-color);\n",
              "    }\n",
              "    20% {\n",
              "      border-color: transparent;\n",
              "      border-left-color: var(--fill-color);\n",
              "      border-top-color: var(--fill-color);\n",
              "    }\n",
              "    30% {\n",
              "      border-color: transparent;\n",
              "      border-left-color: var(--fill-color);\n",
              "      border-top-color: var(--fill-color);\n",
              "      border-right-color: var(--fill-color);\n",
              "    }\n",
              "    40% {\n",
              "      border-color: transparent;\n",
              "      border-right-color: var(--fill-color);\n",
              "      border-top-color: var(--fill-color);\n",
              "    }\n",
              "    60% {\n",
              "      border-color: transparent;\n",
              "      border-right-color: var(--fill-color);\n",
              "    }\n",
              "    80% {\n",
              "      border-color: transparent;\n",
              "      border-right-color: var(--fill-color);\n",
              "      border-bottom-color: var(--fill-color);\n",
              "    }\n",
              "    90% {\n",
              "      border-color: transparent;\n",
              "      border-bottom-color: var(--fill-color);\n",
              "    }\n",
              "  }\n",
              "</style>\n",
              "\n",
              "  <script>\n",
              "    async function quickchart(key) {\n",
              "      const quickchartButtonEl =\n",
              "        document.querySelector('#' + key + ' button');\n",
              "      quickchartButtonEl.disabled = true;  // To prevent multiple clicks.\n",
              "      quickchartButtonEl.classList.add('colab-df-spinner');\n",
              "      try {\n",
              "        const charts = await google.colab.kernel.invokeFunction(\n",
              "            'suggestCharts', [key], {});\n",
              "      } catch (error) {\n",
              "        console.error('Error during call to suggestCharts:', error);\n",
              "      }\n",
              "      quickchartButtonEl.classList.remove('colab-df-spinner');\n",
              "      quickchartButtonEl.classList.add('colab-df-quickchart-complete');\n",
              "    }\n",
              "    (() => {\n",
              "      let quickchartButtonEl =\n",
              "        document.querySelector('#df-6c1f2526-14f4-4681-b161-71b325b36483 button');\n",
              "      quickchartButtonEl.style.display =\n",
              "        google.colab.kernel.accessAllowed ? 'block' : 'none';\n",
              "    })();\n",
              "  </script>\n",
              "</div>\n",
              "\n",
              "    </div>\n",
              "  </div>\n"
            ],
            "application/vnd.google.colaboratory.intrinsic+json": {
              "type": "dataframe",
              "variable_name": "df"
            }
          },
          "metadata": {},
          "execution_count": 3
        }
      ],
      "source": [
        "# Display first few rows\n",
        "df.head(15)"
      ]
    },
    {
      "cell_type": "markdown",
      "source": [
        "# 3. Data Cleaning"
      ],
      "metadata": {
        "id": "cltg15hiGLZ_"
      }
    },
    {
      "cell_type": "markdown",
      "source": [
        "### Check for duplicate rows and drop them"
      ],
      "metadata": {
        "id": "IpbP6o_qGMec"
      }
    },
    {
      "cell_type": "code",
      "source": [
        "count_of_duplicate_rows = df.duplicated().sum()\n",
        "print(count_of_duplicate_rows)"
      ],
      "metadata": {
        "id": "VQ7xebc-LGkC",
        "colab": {
          "base_uri": "https://localhost:8080/"
        },
        "outputId": "97aaf218-05a4-454b-9652-2bb703761c7c"
      },
      "execution_count": 4,
      "outputs": [
        {
          "output_type": "stream",
          "name": "stdout",
          "text": [
            "1081\n"
          ]
        }
      ]
    },
    {
      "cell_type": "code",
      "source": [
        "df = df.drop_duplicates()"
      ],
      "metadata": {
        "id": "3rBZOjpiLIk8"
      },
      "execution_count": 5,
      "outputs": []
    },
    {
      "cell_type": "code",
      "source": [
        "count_of_duplicate_rows_2 = df.duplicated().sum()\n",
        "print(count_of_duplicate_rows_2)"
      ],
      "metadata": {
        "id": "UDcnQ_V9LJ8x",
        "colab": {
          "base_uri": "https://localhost:8080/"
        },
        "outputId": "f89fda4d-9ebc-400b-a73c-983925857efe"
      },
      "execution_count": 6,
      "outputs": [
        {
          "output_type": "stream",
          "name": "stdout",
          "text": [
            "0\n"
          ]
        }
      ]
    },
    {
      "cell_type": "markdown",
      "source": [
        "### Checking for null values"
      ],
      "metadata": {
        "id": "l29xkyC7GQNx"
      }
    },
    {
      "cell_type": "code",
      "source": [
        "null_value_percentage = df.isnull().sum()/len(df)\n",
        "print(null_value_percentage)"
      ],
      "metadata": {
        "id": "EdL06wcnLJ5V",
        "colab": {
          "base_uri": "https://localhost:8080/"
        },
        "outputId": "fd63e776-12b6-44a3-c0f2-886d951c99b4"
      },
      "execution_count": 7,
      "outputs": [
        {
          "output_type": "stream",
          "name": "stdout",
          "text": [
            "Time      0.0\n",
            "V1        0.0\n",
            "V2        0.0\n",
            "V3        0.0\n",
            "V4        0.0\n",
            "V5        0.0\n",
            "V6        0.0\n",
            "V7        0.0\n",
            "V8        0.0\n",
            "V9        0.0\n",
            "V10       0.0\n",
            "V11       0.0\n",
            "V12       0.0\n",
            "V13       0.0\n",
            "V14       0.0\n",
            "V15       0.0\n",
            "V16       0.0\n",
            "V17       0.0\n",
            "V18       0.0\n",
            "V19       0.0\n",
            "V20       0.0\n",
            "V21       0.0\n",
            "V22       0.0\n",
            "V23       0.0\n",
            "V24       0.0\n",
            "V25       0.0\n",
            "V26       0.0\n",
            "V27       0.0\n",
            "V28       0.0\n",
            "Amount    0.0\n",
            "Class     0.0\n",
            "dtype: float64\n"
          ]
        }
      ]
    },
    {
      "cell_type": "markdown",
      "source": [
        "### Removal of outliers"
      ],
      "metadata": {
        "id": "5EebpEXoGWUh"
      }
    },
    {
      "cell_type": "code",
      "source": [
        "import pandas as pd\n",
        "\n",
        "# Calculate the IQR for 'Amount'\n",
        "Q1 = df['Amount'].quantile(0.25)\n",
        "Q3 = df['Amount'].quantile(0.75)\n",
        "IQR = Q3 - Q1\n",
        "\n",
        "# Define the upper and lower bounds for outliers\n",
        "lower_bound = Q1 - 1.5 * IQR\n",
        "upper_bound = Q3 + 1.5 * IQR\n",
        "\n",
        "# Remove outliers\n",
        "df = df[(df['Amount'] >= lower_bound) & (df['Amount'] <= upper_bound)]\n"
      ],
      "metadata": {
        "id": "dJLtJy3ELJ2R"
      },
      "execution_count": 8,
      "outputs": []
    },
    {
      "cell_type": "code",
      "source": [
        "# Box plot to identify outliers\n",
        "sns.boxplot(data=df, x='Amount')\n",
        "plt.show()"
      ],
      "metadata": {
        "id": "DGEthz3gLJy3",
        "colab": {
          "base_uri": "https://localhost:8080/",
          "height": 449
        },
        "outputId": "cc2bf7eb-d120-4853-f7c7-a3f7c53812c9"
      },
      "execution_count": 9,
      "outputs": [
        {
          "output_type": "display_data",
          "data": {
            "text/plain": [
              "<Figure size 640x480 with 1 Axes>"
            ],
            "image/png": "[encoded data removed]"
          },
          "metadata": {}
        }
      ]
    },
    {
      "cell_type": "markdown",
      "metadata": {
        "id": "fRIqpHJwjn9_"
      },
      "source": [
        "# 4. Split data into train and test sets\n",
        "\n",
        "Split the data into training and test sets using the train_test_split function. Specify X as the input features, y as the target variable, set test_size to 0.2 for an 80/20 split, and use random_state for reproducibility."
      ]
    },
    {
      "cell_type": "code",
      "execution_count": 10,
      "metadata": {
        "colab": {
          "base_uri": "https://localhost:8080/"
        },
        "id": "saJf2YnU1yOE",
        "outputId": "53299ba4-f607-4421-e4ad-fe8b14256e77"
      },
      "outputs": [
        {
          "output_type": "stream",
          "name": "stdout",
          "text": [
            "X_train shape: (201632, 30)\n",
            "X_test shape: (50409, 30)\n",
            "y_train shape: (201632,)\n",
            "y_test shape: (50409,)\n"
          ]
        }
      ],
      "source": [
        "X = df.drop(['Class'], axis=1)\n",
        "y = df['Class']\n",
        "# Split the dataset into training and testing sets\n",
        "X_train, X_test, y_train, y_test = train_test_split(X, y, test_size=0.2, random_state=42)\n",
        "print(\"X_train shape:\", X_train.shape)\n",
        "print(\"X_test shape:\", X_test.shape)\n",
        "print(\"y_train shape:\", y_train.shape)\n",
        "print(\"y_test shape:\", y_test.shape)\n"
      ]
    },
    {
      "cell_type": "markdown",
      "metadata": {
        "id": "G-NC6Sx_kD_8"
      },
      "source": [
        "# 5. Dealing with Imbalanced data\n",
        "\n",
        "How SMOTE Works\n",
        "\n",
        "* Identify Minority Class: SMOTE identifies the instances in the minority class. Choose Neighbors: For each instance in the minority class, it selects a number of its nearest neighbors (typically using Euclidean distance).\n",
        "* Generate Synthetic Samples: New samples are created by interpolating between the instance and its neighbors."
      ]
    },
    {
      "cell_type": "code",
      "execution_count": 11,
      "metadata": {
        "colab": {
          "base_uri": "https://localhost:8080/"
        },
        "id": "wBN2FeTz1yLi",
        "outputId": "c418618b-13c4-4dd7-ff88-cd1d5845fac5"
      },
      "outputs": [
        {
          "output_type": "stream",
          "name": "stdout",
          "text": [
            "X_resampled shape: (402660, 30)\n",
            "y_resampled shape: (402660,)\n"
          ]
        }
      ],
      "source": [
        "from imblearn.over_sampling import SMOTE\n",
        "\n",
        "# Handle class imbalance with SMOTE\n",
        "smote = SMOTE(random_state=42)\n",
        "X_resampled, y_resampled = smote.fit_resample(X_train, y_train)\n",
        "print(\"X_resampled shape:\", X_resampled.shape)\n",
        "print(\"y_resampled shape:\", y_resampled.shape)"
      ]
    },
    {
      "cell_type": "markdown",
      "metadata": {
        "id": "K5AAS0GFkoSN"
      },
      "source": [
        "# 6. Scaling\n",
        "Scaling is a crucial preprocessing step in machine learning and data analysis.It helps improve model performance, ensures features contribute equally and helps us achieve more reliable and interpretable models."
      ]
    },
    {
      "cell_type": "code",
      "execution_count": 12,
      "metadata": {
        "id": "R-dJugbB1yJZ"
      },
      "outputs": [],
      "source": [
        "from sklearn.preprocessing import StandardScaler\n",
        "\n",
        "# Scale the features\n",
        "scaler = StandardScaler()\n",
        "\n",
        "X_resampled_scaled = scaler.fit_transform(X_resampled)\n",
        "X_test_scaled = scaler.transform(X_test)"
      ]
    },
    {
      "cell_type": "markdown",
      "metadata": {
        "id": "1-dTBxawsfwT"
      },
      "source": [
        "# 7. Train the Model\n",
        "\n",
        "Train the model and predict the metrics."
      ]
    },
    {
      "cell_type": "code",
      "execution_count": 13,
      "metadata": {
        "colab": {
          "base_uri": "https://localhost:8080/",
          "height": 80
        },
        "id": "zP2CigGm1yHC",
        "outputId": "9cd869b4-d05e-4bb8-c97f-26751d9d3f30"
      },
      "outputs": [
        {
          "output_type": "execute_result",
          "data": {
            "text/plain": [
              "RandomForestClassifier(max_depth=10, random_state=42)"
            ],
            "text/html": [
              "<style>#sk-container-id-1 {\n",
              "  /* Definition of color scheme common for light and dark mode */\n",
              "  --sklearn-color-text: black;\n",
              "  --sklearn-color-line: gray;\n",
              "  /* Definition of color scheme for unfitted estimators */\n",
              "  --sklearn-color-unfitted-level-0: #fff5e6;\n",
              "  --sklearn-color-unfitted-level-1: #f6e4d2;\n",
              "  --sklearn-color-unfitted-level-2: #ffe0b3;\n",
              "  --sklearn-color-unfitted-level-3: chocolate;\n",
              "  /* Definition of color scheme for fitted estimators */\n",
              "  --sklearn-color-fitted-level-0: #f0f8ff;\n",
              "  --sklearn-color-fitted-level-1: #d4ebff;\n",
              "  --sklearn-color-fitted-level-2: #b3dbfd;\n",
              "  --sklearn-color-fitted-level-3: cornflowerblue;\n",
              "\n",
              "  /* Specific color for light theme */\n",
              "  --sklearn-color-text-on-default-background: var(--sg-text-color, var(--theme-code-foreground, var(--jp-content-font-color1, black)));\n",
              "  --sklearn-color-background: var(--sg-background-color, var(--theme-background, var(--jp-layout-color0, white)));\n",
              "  --sklearn-color-border-box: var(--sg-text-color, var(--theme-code-foreground, var(--jp-content-font-color1, black)));\n",
              "  --sklearn-color-icon: #696969;\n",
              "\n",
              "  @media (prefers-color-scheme: dark) {\n",
              "    /* Redefinition of color scheme for dark theme */\n",
              "    --sklearn-color-text-on-default-background: var(--sg-text-color, var(--theme-code-foreground, var(--jp-content-font-color1, white)));\n",
              "    --sklearn-color-background: var(--sg-background-color, var(--theme-background, var(--jp-layout-color0, #111)));\n",
              "    --sklearn-color-border-box: var(--sg-text-color, var(--theme-code-foreground, var(--jp-content-font-color1, white)));\n",
              "    --sklearn-color-icon: #878787;\n",
              "  }\n",
              "}\n",
              "\n",
              "#sk-container-id-1 {\n",
              "  color: var(--sklearn-color-text);\n",
              "}\n",
              "\n",
              "#sk-container-id-1 pre {\n",
              "  padding: 0;\n",
              "}\n",
              "\n",
              "#sk-container-id-1 input.sk-hidden--visually {\n",
              "  border: 0;\n",
              "  clip: rect(1px 1px 1px 1px);\n",
              "  clip: rect(1px, 1px, 1px, 1px);\n",
              "  height: 1px;\n",
              "  margin: -1px;\n",
              "  overflow: hidden;\n",
              "  padding: 0;\n",
              "  position: absolute;\n",
              "  width: 1px;\n",
              "}\n",
              "\n",
              "#sk-container-id-1 div.sk-dashed-wrapped {\n",
              "  border: 1px dashed var(--sklearn-color-line);\n",
              "  margin: 0 0.4em 0.5em 0.4em;\n",
              "  box-sizing: border-box;\n",
              "  padding-bottom: 0.4em;\n",
              "  background-color: var(--sklearn-color-background);\n",
              "}\n",
              "\n",
              "#sk-container-id-1 div.sk-container {\n",
              "  /* jupyter's `normalize.less` sets `[hidden] { display: none; }`\n",
              "     but bootstrap.min.css set `[hidden] { display: none !important; }`\n",
              "     so we also need the `!important` here to be able to override the\n",
              "     default hidden behavior on the sphinx rendered scikit-learn.org.\n",
              "     See: https://github.com/scikit-learn/scikit-learn/issues/21755 */\n",
              "  display: inline-block !important;\n",
              "  position: relative;\n",
              "}\n",
              "\n",
              "#sk-container-id-1 div.sk-text-repr-fallback {\n",
              "  display: none;\n",
              "}\n",
              "\n",
              "div.sk-parallel-item,\n",
              "div.sk-serial,\n",
              "div.sk-item {\n",
              "  /* draw centered vertical line to link estimators */\n",
              "  background-image: linear-gradient(var(--sklearn-color-text-on-default-background), var(--sklearn-color-text-on-default-background));\n",
              "  background-size: 2px 100%;\n",
              "  background-repeat: no-repeat;\n",
              "  background-position: center center;\n",
              "}\n",
              "\n",
              "/* Parallel-specific style estimator block */\n",
              "\n",
              "#sk-container-id-1 div.sk-parallel-item::after {\n",
              "  content: \"\";\n",
              "  width: 100%;\n",
              "  border-bottom: 2px solid var(--sklearn-color-text-on-default-background);\n",
              "  flex-grow: 1;\n",
              "}\n",
              "\n",
              "#sk-container-id-1 div.sk-parallel {\n",
              "  display: flex;\n",
              "  align-items: stretch;\n",
              "  justify-content: center;\n",
              "  background-color: var(--sklearn-color-background);\n",
              "  position: relative;\n",
              "}\n",
              "\n",
              "#sk-container-id-1 div.sk-parallel-item {\n",
              "  display: flex;\n",
              "  flex-direction: column;\n",
              "}\n",
              "\n",
              "#sk-container-id-1 div.sk-parallel-item:first-child::after {\n",
              "  align-self: flex-end;\n",
              "  width: 50%;\n",
              "}\n",
              "\n",
              "#sk-container-id-1 div.sk-parallel-item:last-child::after {\n",
              "  align-self: flex-start;\n",
              "  width: 50%;\n",
              "}\n",
              "\n",
              "#sk-container-id-1 div.sk-parallel-item:only-child::after {\n",
              "  width: 0;\n",
              "}\n",
              "\n",
              "/* Serial-specific style estimator block */\n",
              "\n",
              "#sk-container-id-1 div.sk-serial {\n",
              "  display: flex;\n",
              "  flex-direction: column;\n",
              "  align-items: center;\n",
              "  background-color: var(--sklearn-color-background);\n",
              "  padding-right: 1em;\n",
              "  padding-left: 1em;\n",
              "}\n",
              "\n",
              "\n",
              "/* Toggleable style: style used for estimator/Pipeline/ColumnTransformer box that is\n",
              "clickable and can be expanded/collapsed.\n",
              "- Pipeline and ColumnTransformer use this feature and define the default style\n",
              "- Estimators will overwrite some part of the style using the `sk-estimator` class\n",
              "*/\n",
              "\n",
              "/* Pipeline and ColumnTransformer style (default) */\n",
              "\n",
              "#sk-container-id-1 div.sk-toggleable {\n",
              "  /* Default theme specific background. It is overwritten whether we have a\n",
              "  specific estimator or a Pipeline/ColumnTransformer */\n",
              "  background-color: var(--sklearn-color-background);\n",
              "}\n",
              "\n",
              "/* Toggleable label */\n",
              "#sk-container-id-1 label.sk-toggleable__label {\n",
              "  cursor: pointer;\n",
              "  display: block;\n",
              "  width: 100%;\n",
              "  margin-bottom: 0;\n",
              "  padding: 0.5em;\n",
              "  box-sizing: border-box;\n",
              "  text-align: center;\n",
              "}\n",
              "\n",
              "#sk-container-id-1 label.sk-toggleable__label-arrow:before {\n",
              "  /* Arrow on the left of the label */\n",
              "  content: \"▸\";\n",
              "  float: left;\n",
              "  margin-right: 0.25em;\n",
              "  color: var(--sklearn-color-icon);\n",
              "}\n",
              "\n",
              "#sk-container-id-1 label.sk-toggleable__label-arrow:hover:before {\n",
              "  color: var(--sklearn-color-text);\n",
              "}\n",
              "\n",
              "/* Toggleable content - dropdown */\n",
              "\n",
              "#sk-container-id-1 div.sk-toggleable__content {\n",
              "  max-height: 0;\n",
              "  max-width: 0;\n",
              "  overflow: hidden;\n",
              "  text-align: left;\n",
              "  /* unfitted */\n",
              "  background-color: var(--sklearn-color-unfitted-level-0);\n",
              "}\n",
              "\n",
              "#sk-container-id-1 div.sk-toggleable__content.fitted {\n",
              "  /* fitted */\n",
              "  background-color: var(--sklearn-color-fitted-level-0);\n",
              "}\n",
              "\n",
              "#sk-container-id-1 div.sk-toggleable__content pre {\n",
              "  margin: 0.2em;\n",
              "  border-radius: 0.25em;\n",
              "  color: var(--sklearn-color-text);\n",
              "  /* unfitted */\n",
              "  background-color: var(--sklearn-color-unfitted-level-0);\n",
              "}\n",
              "\n",
              "#sk-container-id-1 div.sk-toggleable__content.fitted pre {\n",
              "  /* unfitted */\n",
              "  background-color: var(--sklearn-color-fitted-level-0);\n",
              "}\n",
              "\n",
              "#sk-container-id-1 input.sk-toggleable__control:checked~div.sk-toggleable__content {\n",
              "  /* Expand drop-down */\n",
              "  max-height: 200px;\n",
              "  max-width: 100%;\n",
              "  overflow: auto;\n",
              "}\n",
              "\n",
              "#sk-container-id-1 input.sk-toggleable__control:checked~label.sk-toggleable__label-arrow:before {\n",
              "  content: \"▾\";\n",
              "}\n",
              "\n",
              "/* Pipeline/ColumnTransformer-specific style */\n",
              "\n",
              "#sk-container-id-1 div.sk-label input.sk-toggleable__control:checked~label.sk-toggleable__label {\n",
              "  color: var(--sklearn-color-text);\n",
              "  background-color: var(--sklearn-color-unfitted-level-2);\n",
              "}\n",
              "\n",
              "#sk-container-id-1 div.sk-label.fitted input.sk-toggleable__control:checked~label.sk-toggleable__label {\n",
              "  background-color: var(--sklearn-color-fitted-level-2);\n",
              "}\n",
              "\n",
              "/* Estimator-specific style */\n",
              "\n",
              "/* Colorize estimator box */\n",
              "#sk-container-id-1 div.sk-estimator input.sk-toggleable__control:checked~label.sk-toggleable__label {\n",
              "  /* unfitted */\n",
              "  background-color: var(--sklearn-color-unfitted-level-2);\n",
              "}\n",
              "\n",
              "#sk-container-id-1 div.sk-estimator.fitted input.sk-toggleable__control:checked~label.sk-toggleable__label {\n",
              "  /* fitted */\n",
              "  background-color: var(--sklearn-color-fitted-level-2);\n",
              "}\n",
              "\n",
              "#sk-container-id-1 div.sk-label label.sk-toggleable__label,\n",
              "#sk-container-id-1 div.sk-label label {\n",
              "  /* The background is the default theme color */\n",
              "  color: var(--sklearn-color-text-on-default-background);\n",
              "}\n",
              "\n",
              "/* On hover, darken the color of the background */\n",
              "#sk-container-id-1 div.sk-label:hover label.sk-toggleable__label {\n",
              "  color: var(--sklearn-color-text);\n",
              "  background-color: var(--sklearn-color-unfitted-level-2);\n",
              "}\n",
              "\n",
              "/* Label box, darken color on hover, fitted */\n",
              "#sk-container-id-1 div.sk-label.fitted:hover label.sk-toggleable__label.fitted {\n",
              "  color: var(--sklearn-color-text);\n",
              "  background-color: var(--sklearn-color-fitted-level-2);\n",
              "}\n",
              "\n",
              "/* Estimator label */\n",
              "\n",
              "#sk-container-id-1 div.sk-label label {\n",
              "  font-family: monospace;\n",
              "  font-weight: bold;\n",
              "  display: inline-block;\n",
              "  line-height: 1.2em;\n",
              "}\n",
              "\n",
              "#sk-container-id-1 div.sk-label-container {\n",
              "  text-align: center;\n",
              "}\n",
              "\n",
              "/* Estimator-specific */\n",
              "#sk-container-id-1 div.sk-estimator {\n",
              "  font-family: monospace;\n",
              "  border: 1px dotted var(--sklearn-color-border-box);\n",
              "  border-radius: 0.25em;\n",
              "  box-sizing: border-box;\n",
              "  margin-bottom: 0.5em;\n",
              "  /* unfitted */\n",
              "  background-color: var(--sklearn-color-unfitted-level-0);\n",
              "}\n",
              "\n",
              "#sk-container-id-1 div.sk-estimator.fitted {\n",
              "  /* fitted */\n",
              "  background-color: var(--sklearn-color-fitted-level-0);\n",
              "}\n",
              "\n",
              "/* on hover */\n",
              "#sk-container-id-1 div.sk-estimator:hover {\n",
              "  /* unfitted */\n",
              "  background-color: var(--sklearn-color-unfitted-level-2);\n",
              "}\n",
              "\n",
              "#sk-container-id-1 div.sk-estimator.fitted:hover {\n",
              "  /* fitted */\n",
              "  background-color: var(--sklearn-color-fitted-level-2);\n",
              "}\n",
              "\n",
              "/* Specification for estimator info (e.g. \"i\" and \"?\") */\n",
              "\n",
              "/* Common style for \"i\" and \"?\" */\n",
              "\n",
              ".sk-estimator-doc-link,\n",
              "a:link.sk-estimator-doc-link,\n",
              "a:visited.sk-estimator-doc-link {\n",
              "  float: right;\n",
              "  font-size: smaller;\n",
              "  line-height: 1em;\n",
              "  font-family: monospace;\n",
              "  background-color: var(--sklearn-color-background);\n",
              "  border-radius: 1em;\n",
              "  height: 1em;\n",
              "  width: 1em;\n",
              "  text-decoration: none !important;\n",
              "  margin-left: 1ex;\n",
              "  /* unfitted */\n",
              "  border: var(--sklearn-color-unfitted-level-1) 1pt solid;\n",
              "  color: var(--sklearn-color-unfitted-level-1);\n",
              "}\n",
              "\n",
              ".sk-estimator-doc-link.fitted,\n",
              "a:link.sk-estimator-doc-link.fitted,\n",
              "a:visited.sk-estimator-doc-link.fitted {\n",
              "  /* fitted */\n",
              "  border: var(--sklearn-color-fitted-level-1) 1pt solid;\n",
              "  color: var(--sklearn-color-fitted-level-1);\n",
              "}\n",
              "\n",
              "/* On hover */\n",
              "div.sk-estimator:hover .sk-estimator-doc-link:hover,\n",
              ".sk-estimator-doc-link:hover,\n",
              "div.sk-label-container:hover .sk-estimator-doc-link:hover,\n",
              ".sk-estimator-doc-link:hover {\n",
              "  /* unfitted */\n",
              "  background-color: var(--sklearn-color-unfitted-level-3);\n",
              "  color: var(--sklearn-color-background);\n",
              "  text-decoration: none;\n",
              "}\n",
              "\n",
              "div.sk-estimator.fitted:hover .sk-estimator-doc-link.fitted:hover,\n",
              ".sk-estimator-doc-link.fitted:hover,\n",
              "div.sk-label-container:hover .sk-estimator-doc-link.fitted:hover,\n",
              ".sk-estimator-doc-link.fitted:hover {\n",
              "  /* fitted */\n",
              "  background-color: var(--sklearn-color-fitted-level-3);\n",
              "  color: var(--sklearn-color-background);\n",
              "  text-decoration: none;\n",
              "}\n",
              "\n",
              "/* Span, style for the box shown on hovering the info icon */\n",
              ".sk-estimator-doc-link span {\n",
              "  display: none;\n",
              "  z-index: 9999;\n",
              "  position: relative;\n",
              "  font-weight: normal;\n",
              "  right: .2ex;\n",
              "  padding: .5ex;\n",
              "  margin: .5ex;\n",
              "  width: min-content;\n",
              "  min-width: 20ex;\n",
              "  max-width: 50ex;\n",
              "  color: var(--sklearn-color-text);\n",
              "  box-shadow: 2pt 2pt 4pt #999;\n",
              "  /* unfitted */\n",
              "  background: var(--sklearn-color-unfitted-level-0);\n",
              "  border: .5pt solid var(--sklearn-color-unfitted-level-3);\n",
              "}\n",
              "\n",
              ".sk-estimator-doc-link.fitted span {\n",
              "  /* fitted */\n",
              "  background: var(--sklearn-color-fitted-level-0);\n",
              "  border: var(--sklearn-color-fitted-level-3);\n",
              "}\n",
              "\n",
              ".sk-estimator-doc-link:hover span {\n",
              "  display: block;\n",
              "}\n",
              "\n",
              "/* \"?\"-specific style due to the `<a>` HTML tag */\n",
              "\n",
              "#sk-container-id-1 a.estimator_doc_link {\n",
              "  float: right;\n",
              "  font-size: 1rem;\n",
              "  line-height: 1em;\n",
              "  font-family: monospace;\n",
              "  background-color: var(--sklearn-color-background);\n",
              "  border-radius: 1rem;\n",
              "  height: 1rem;\n",
              "  width: 1rem;\n",
              "  text-decoration: none;\n",
              "  /* unfitted */\n",
              "  color: var(--sklearn-color-unfitted-level-1);\n",
              "  border: var(--sklearn-color-unfitted-level-1) 1pt solid;\n",
              "}\n",
              "\n",
              "#sk-container-id-1 a.estimator_doc_link.fitted {\n",
              "  /* fitted */\n",
              "  border: var(--sklearn-color-fitted-level-1) 1pt solid;\n",
              "  color: var(--sklearn-color-fitted-level-1);\n",
              "}\n",
              "\n",
              "/* On hover */\n",
              "#sk-container-id-1 a.estimator_doc_link:hover {\n",
              "  /* unfitted */\n",
              "  background-color: var(--sklearn-color-unfitted-level-3);\n",
              "  color: var(--sklearn-color-background);\n",
              "  text-decoration: none;\n",
              "}\n",
              "\n",
              "#sk-container-id-1 a.estimator_doc_link.fitted:hover {\n",
              "  /* fitted */\n",
              "  background-color: var(--sklearn-color-fitted-level-3);\n",
              "}\n",
              "</style><div id=\"sk-container-id-1\" class=\"sk-top-container\"><div class=\"sk-text-repr-fallback\"><pre>RandomForestClassifier(max_depth=10, random_state=42)</pre><b>In a Jupyter environment, please rerun this cell to show the HTML representation or trust the notebook. <br />On GitHub, the HTML representation is unable to render, please try loading this page with nbviewer.org.</b></div><div class=\"sk-container\" hidden><div class=\"sk-item\"><div class=\"sk-estimator fitted sk-toggleable\"><input class=\"sk-toggleable__control sk-hidden--visually\" id=\"sk-estimator-id-1\" type=\"checkbox\" checked><label for=\"sk-estimator-id-1\" class=\"sk-toggleable__label fitted sk-toggleable__label-arrow fitted\">&nbsp;&nbsp;RandomForestClassifier<a class=\"sk-estimator-doc-link fitted\" rel=\"noreferrer\" target=\"_blank\" href=\"https://scikit-learn.org/1.5/modules/generated/sklearn.ensemble.RandomForestClassifier.html\">?<span>Documentation for RandomForestClassifier</span></a><span class=\"sk-estimator-doc-link fitted\">i<span>Fitted</span></span></label><div class=\"sk-toggleable__content fitted\"><pre>RandomForestClassifier(max_depth=10, random_state=42)</pre></div> </div></div></div></div>"
            ]
          },
          "metadata": {},
          "execution_count": 13
        }
      ],
      "source": [
        "# Train the Random Forest Classifier\n",
        "rf_model = RandomForestClassifier(max_depth=10, n_estimators=100, random_state=42)\n",
        "rf_model.fit(X_resampled_scaled, y_resampled)"
      ]
    },
    {
      "cell_type": "code",
      "execution_count": 14,
      "metadata": {
        "colab": {
          "base_uri": "https://localhost:8080/"
        },
        "id": "tJ-oCsohb6AP",
        "outputId": "7a493c6a-4e88-4317-e0b5-745415e8a8ec"
      },
      "outputs": [
        {
          "output_type": "stream",
          "name": "stdout",
          "text": [
            "Training Classification Report:\n",
            "               precision    recall  f1-score   support\n",
            "\n",
            "           0       0.99      1.00      1.00    201330\n",
            "           1       1.00      0.99      1.00    201330\n",
            "\n",
            "    accuracy                           1.00    402660\n",
            "   macro avg       1.00      1.00      1.00    402660\n",
            "weighted avg       1.00      1.00      1.00    402660\n",
            "\n",
            "Training Confusion Matrix:\n",
            " [[201223    107]\n",
            " [  1662 199668]]\n",
            "Testing Classification Report:\n",
            "               precision    recall  f1-score   support\n",
            "\n",
            "           0       1.00      1.00      1.00     50325\n",
            "           1       0.67      0.88      0.76        84\n",
            "\n",
            "    accuracy                           1.00     50409\n",
            "   macro avg       0.84      0.94      0.88     50409\n",
            "weighted avg       1.00      1.00      1.00     50409\n",
            "\n",
            "Testing Confusion Matrix:\n",
            " [[50289    36]\n",
            " [   10    74]]\n"
          ]
        }
      ],
      "source": [
        "# Make predictions on the resampled training set\n",
        "y_train_pred = rf_model.predict(X_resampled_scaled)\n",
        "\n",
        "# Make predictions on the test set\n",
        "y_test_pred = rf_model.predict(X_test_scaled)\n",
        "\n",
        "# Evaluation metrics for the resampled training set\n",
        "print(\"Training Classification Report:\\n\", classification_report(y_resampled, y_train_pred))\n",
        "print(\"Training Confusion Matrix:\\n\", confusion_matrix(y_resampled, y_train_pred))\n",
        "\n",
        "# Evaluation metrics for the test set\n",
        "print(\"Testing Classification Report:\\n\", classification_report(y_test, y_test_pred))\n",
        "print(\"Testing Confusion Matrix:\\n\", confusion_matrix(y_test, y_test_pred))"
      ]
    },
    {
      "cell_type": "code",
      "execution_count": 15,
      "metadata": {
        "colab": {
          "base_uri": "https://localhost:8080/"
        },
        "id": "rL1T00SIb587",
        "outputId": "ccbcce65-66cf-4b7f-9bbb-ebdaf7719080"
      },
      "outputs": [
        {
          "output_type": "stream",
          "name": "stdout",
          "text": [
            "Training Accuracy :  0.9956067153429693\n",
            "Training Precision :  0.999464397447128\n",
            "Training Recall Score :  0.9917448964386828\n"
          ]
        }
      ],
      "source": [
        "from sklearn.metrics import  precision_score, recall_score\n",
        "\n",
        "# Predict Training accuracy\n",
        "train_accuracy = accuracy_score(y_resampled, y_train_pred)\n",
        "print(\"Training Accuracy : \", train_accuracy)\n",
        "\n",
        "# Predict Training precision\n",
        "train_precision = precision_score(y_resampled, y_train_pred)\n",
        "print(\"Training Precision : \", train_precision)\n",
        "\n",
        "# Predict Training recall score\n",
        "train_recall = recall_score(y_resampled, y_train_pred)\n",
        "print(\"Training Recall Score : \", train_recall)"
      ]
    },
    {
      "cell_type": "code",
      "execution_count": 16,
      "metadata": {
        "colab": {
          "base_uri": "https://localhost:8080/"
        },
        "id": "CgnfwNoMb55W",
        "outputId": "57e218d0-1728-4243-aa22-e38e34713b4a"
      },
      "outputs": [
        {
          "output_type": "stream",
          "name": "stdout",
          "text": [
            "Testing Accuracy :  0.9990874645400623\n",
            "Testing Precision :  0.6727272727272727\n",
            "Testing Recall Score :  0.8809523809523809\n"
          ]
        }
      ],
      "source": [
        "# Predict Testing accuracy\n",
        "test_accuracy = accuracy_score(y_test, y_test_pred)\n",
        "print(\"Testing Accuracy : \", test_accuracy)\n",
        "\n",
        "# Predict Testing precision\n",
        "test_precision = precision_score(y_test, y_test_pred)\n",
        "print(\"Testing Precision : \", test_precision)\n",
        "\n",
        "# Predict Testing recall score\n",
        "test_recall = recall_score(y_test, y_test_pred)\n",
        "print(\"Testing Recall Score : \", test_recall)"
      ]
    },
    {
      "cell_type": "markdown",
      "metadata": {
        "id": "TR-2KYSdssuB"
      },
      "source": [
        "Here, we can see, the model is performing moderately well on unseen data, however there is scope for improvement. In order to enhance our model performance, we will perform Threshold Tuning."
      ]
    },
    {
      "cell_type": "markdown",
      "metadata": {
        "id": "su3y8np5s1cF"
      },
      "source": [
        "# 8. Threshold Adjustment\n",
        "\n",
        "Adjusting the threshold can help improve the model's ability to identify the minority class without overly compromising the performance on the majority class and help enhance the performance of the model."
      ]
    },
    {
      "cell_type": "code",
      "execution_count": 17,
      "metadata": {
        "colab": {
          "base_uri": "https://localhost:8080/",
          "height": 764
        },
        "id": "HTyrLi9hb5lw",
        "outputId": "bb2307a0-a042-4c65-a5f2-027dcf1c93b1"
      },
      "outputs": [
        {
          "output_type": "display_data",
          "data": {
            "text/plain": [
              "<Figure size 1200x600 with 1 Axes>"
            ],
            "image/png": "[encoded data removed]"
          },
          "metadata": {}
        },
        {
          "output_type": "stream",
          "name": "stdout",
          "text": [
            "Best threshold based on F1-score: 0.7000000000000001\n",
            "Final Testing Classification Report:\n",
            "               precision    recall  f1-score   support\n",
            "\n",
            "           0       1.00      1.00      1.00     50325\n",
            "           1       0.89      0.85      0.87        84\n",
            "\n",
            "    accuracy                           1.00     50409\n",
            "   macro avg       0.94      0.92      0.93     50409\n",
            "weighted avg       1.00      1.00      1.00     50409\n",
            "\n"
          ]
        }
      ],
      "source": [
        "# Get predicted probabilities for the test set\n",
        "y_probs = rf_model.predict_proba(X_test_scaled)[:, 1]\n",
        "\n",
        "# Perform threshold adjustment\n",
        "thresholds = np.arange(0.1, 1.0, 0.1)\n",
        "results = []\n",
        "\n",
        "for threshold in thresholds:\n",
        "    y_pred_adjusted = (y_probs >= threshold).astype(int)\n",
        "    report = classification_report(y_test, y_pred_adjusted, output_dict=True)\n",
        "    results.append({\n",
        "        'threshold': threshold,\n",
        "        'precision': report['1']['precision'],\n",
        "        'recall': report['1']['recall'],\n",
        "        'f1-score': report['1']['f1-score']\n",
        "    })\n",
        "\n",
        "# Convert results to DataFrame for easier analysis\n",
        "results_df = pd.DataFrame(results)\n",
        "\n",
        "# Plot the metrics against thresholds\n",
        "import matplotlib.pyplot as plt\n",
        "\n",
        "plt.figure(figsize=(12, 6))\n",
        "plt.plot(results_df['threshold'], results_df['precision'], label='Precision', marker='o')\n",
        "plt.plot(results_df['threshold'], results_df['recall'], label='Recall', marker='o')\n",
        "plt.plot(results_df['threshold'], results_df['f1-score'], label='F1-Score', marker='o')\n",
        "plt.title('Precision, Recall, and F1-Score vs. Classification Threshold')\n",
        "plt.xlabel('Classification Threshold')\n",
        "plt.ylabel('Score')\n",
        "plt.legend()\n",
        "plt.grid()\n",
        "plt.show()\n",
        "\n",
        "# Choose the best threshold based on your preference for precision or recall\n",
        "best_threshold = results_df.loc[results_df['f1-score'].idxmax(), 'threshold']\n",
        "print(f\"Best threshold based on F1-score: {best_threshold}\")\n",
        "\n",
        "# Make final predictions using the best threshold\n",
        "y_test_pred_final = (y_probs >= best_threshold).astype(int)\n",
        "print(\"Final Testing Classification Report:\\n\", classification_report(y_test, y_test_pred_final))"
      ]
    },
    {
      "cell_type": "markdown",
      "metadata": {
        "id": "BCM1_y4htLng"
      },
      "source": [
        "The performace has significantly increased."
      ]
    },
    {
      "cell_type": "markdown",
      "metadata": {
        "id": "lPFT35F1tQoE"
      },
      "source": [
        "Print the test metrics after performing Threshold adjustment"
      ]
    },
    {
      "cell_type": "code",
      "execution_count": 18,
      "metadata": {
        "colab": {
          "base_uri": "https://localhost:8080/"
        },
        "id": "vXJnwjt_cTWs",
        "outputId": "014883a6-f797-472e-f569-6ccb0158b5f4"
      },
      "outputs": [
        {
          "output_type": "stream",
          "name": "stdout",
          "text": [
            "Testing Accuracy :  0.9995635699974211\n",
            "Testing Precision :  0.8875\n",
            "Testing Recall Score :  0.8452380952380952\n"
          ]
        }
      ],
      "source": [
        "# After threshold adjustment\n",
        "\n",
        "# Predict Testing accuracy\n",
        "test_accuracy = accuracy_score(y_test, y_test_pred_final)\n",
        "print(\"Testing Accuracy : \", test_accuracy)\n",
        "\n",
        "# Predict Testing precision\n",
        "test_precision = precision_score(y_test, y_test_pred_final)\n",
        "print(\"Testing Precision : \", test_precision)\n",
        "\n",
        "# Predict Testing recall score\n",
        "test_recall = recall_score(y_test, y_test_pred_final)\n",
        "print(\"Testing Recall Score : \", test_recall)"
      ]
    },
    {
      "cell_type": "markdown",
      "metadata": {
        "id": "ejpkM9Kzta7I"
      },
      "source": [
        "### Precision - Recall Curve\n",
        "Plot the Precision - Recall Curve to check if model is able to distinguishing between the positive and negative classes or not."
      ]
    },
    {
      "cell_type": "code",
      "execution_count": 19,
      "metadata": {
        "colab": {
          "base_uri": "https://localhost:8080/",
          "height": 490
        },
        "id": "zJzClKEXcEqZ",
        "outputId": "822c39ee-5350-4fce-f2bb-c45d1a65e58e"
      },
      "outputs": [
        {
          "output_type": "stream",
          "name": "stdout",
          "text": [
            "ROC AUC Score: 0.9906706408345752\n"
          ]
        },
        {
          "output_type": "display_data",
          "data": {
            "text/plain": [
              "<Figure size 640x480 with 1 Axes>"
            ],
            "image/png": "[encoded data removed]"
          },
          "metadata": {}
        }
      ],
      "source": [
        "from sklearn.metrics import roc_auc_score, precision_recall_curve\n",
        "\n",
        "# Get probabilities for the positive class\n",
        "y_probs = rf_model.predict_proba(X_test_scaled)[:, 1]\n",
        "\n",
        "# Calculate ROC AUC score\n",
        "roc_auc = roc_auc_score(y_test, y_probs)\n",
        "print(f\"ROC AUC Score: {roc_auc}\")\n",
        "\n",
        "# Calculate Precision-Recall curve\n",
        "precision, recall, thresholds = precision_recall_curve(y_test, y_probs)\n",
        "\n",
        "# Plot Precision-Recall curve\n",
        "plt.figure()\n",
        "plt.plot(recall, precision, marker='.')\n",
        "plt.title('Precision-Recall curve')\n",
        "plt.xlabel('Recall')\n",
        "plt.ylabel('Precision')\n",
        "plt.show()"
      ]
    },
    {
      "cell_type": "markdown",
      "metadata": {
        "id": "h3y9H3lctgXC"
      },
      "source": [
        "**ROC AUC Score: 0.9906706408345752** --- Model is excellent at distinguishing between the positive and negative classes"
      ]
    },
    {
      "cell_type": "markdown",
      "metadata": {
        "id": "4VFkbvHGto3e"
      },
      "source": [
        "### ROC Curve"
      ]
    },
    {
      "cell_type": "code",
      "execution_count": 20,
      "metadata": {
        "colab": {
          "base_uri": "https://localhost:8080/",
          "height": 472
        },
        "id": "-NshFM1AcEnv",
        "outputId": "8ba542bf-e7f0-4370-b004-76cf655c3293"
      },
      "outputs": [
        {
          "output_type": "display_data",
          "data": {
            "text/plain": [
              "<Figure size 640x480 with 1 Axes>"
            ],
            "image/png": "[encoded data removed]"
          },
          "metadata": {}
        }
      ],
      "source": [
        "from sklearn.metrics import roc_curve\n",
        "\n",
        "# Step 1: Calculate the ROC curve\n",
        "fpr, tpr, thresholds = roc_curve(y_test, y_probs)\n",
        "\n",
        "# Step 2: Plot the ROC curve\n",
        "plt.figure()\n",
        "plt.plot(fpr, tpr, marker='.')\n",
        "plt.plot([0, 1], [0, 1], linestyle='--', color='gray')  # Diagonal line for random guessing\n",
        "plt.title('ROC Curve')\n",
        "plt.xlabel('False Positive Rate')\n",
        "plt.ylabel('True Positive Rate (Recall)')\n",
        "plt.grid()\n",
        "plt.show()"
      ]
    },
    {
      "cell_type": "markdown",
      "metadata": {
        "id": "FtOlChRFtseS"
      },
      "source": [
        "### Confusion Matrix\n",
        "Confusion Matrix is a machine learning tool to evaluate the performance of a classification model."
      ]
    },
    {
      "cell_type": "code",
      "execution_count": 21,
      "metadata": {
        "colab": {
          "base_uri": "https://localhost:8080/",
          "height": 564
        },
        "id": "s1aSi1nTDUUc",
        "outputId": "55a8364e-420d-44b3-ac79-2b09e0389342"
      },
      "outputs": [
        {
          "output_type": "display_data",
          "data": {
            "text/plain": [
              "<Figure size 800x600 with 1 Axes>"
            ],
            "image/png": "[encoded data removed]"
          },
          "metadata": {}
        }
      ],
      "source": [
        "# Confusion Matrix\n",
        "conf_matrix = confusion_matrix(y_test, y_test_pred_final)\n",
        "\n",
        "plt.figure(figsize=(8, 6))\n",
        "sns.heatmap(conf_matrix, annot=True, fmt='d', cmap='Blues', cbar=False,\n",
        "            xticklabels=['Predicted 0', 'Predicted 1'],\n",
        "            yticklabels=['Actual 0', 'Actual 1'])\n",
        "plt.title('Confusion Matrix')\n",
        "plt.ylabel('Actual')\n",
        "plt.xlabel('Predicted')\n",
        "plt.show()"
      ]
    },
    {
      "cell_type": "markdown",
      "metadata": {
        "id": "BNO6pC7Tt2Ia"
      },
      "source": [
        "* True Negatives (50316): The model correctly predicted the negative class.\n",
        "* False Positives (9): The model incorrectly predicted the positive class when it was actually negative.\n",
        "* False Negatives (13): The model incorrectly predicted the negative class when it was actually positive.\n",
        "* True Positives (71): The model correctly predicted the positive class.\n",
        "\n",
        "In summary, this confusion matrix would reflect very high numbers of true negatives and true positives but relatively much smaller numbers for the false positives and false negatives, which might indicate that it is doing pretty well in telling the difference between the two classes.\n"
      ]
    },
    {
      "cell_type": "markdown",
      "metadata": {
        "id": "utvPpHCat9Yu"
      },
      "source": [
        "# 9. Feature Selection\n",
        "Feature selection is one of the major processes in machine learning. In this process, a subset of relevant features or variables, also known as predictors for model construction, needs to be found."
      ]
    },
    {
      "cell_type": "code",
      "execution_count": 22,
      "metadata": {
        "colab": {
          "base_uri": "https://localhost:8080/",
          "height": 1000
        },
        "id": "nsyqbwnPiSal",
        "outputId": "528f6782-27fa-49d3-faed-e8d97689f7b8"
      },
      "outputs": [
        {
          "output_type": "stream",
          "name": "stdout",
          "text": [
            "Feature Importances:\n",
            "    Feature  Importance\n",
            "14     V14    0.214687\n",
            "10     V10    0.126975\n",
            "12     V12    0.107780\n",
            "4       V4    0.104133\n",
            "17     V17    0.087522\n",
            "3       V3    0.078082\n",
            "11     V11    0.055260\n",
            "2       V2    0.045026\n",
            "7       V7    0.034624\n",
            "9       V9    0.027269\n",
            "16     V16    0.023978\n",
            "21     V21    0.015723\n",
            "6       V6    0.012512\n",
            "1       V1    0.008679\n",
            "28     V28    0.007619\n",
            "0     Time    0.006240\n",
            "27     V27    0.006167\n",
            "18     V18    0.006023\n",
            "19     V19    0.003678\n",
            "8       V8    0.003268\n",
            "25     V25    0.002893\n",
            "13     V13    0.002815\n",
            "15     V15    0.002749\n",
            "29  Amount    0.002688\n",
            "5       V5    0.002621\n",
            "22     V22    0.002521\n",
            "26     V26    0.002501\n",
            "20     V20    0.002072\n",
            "24     V24    0.002004\n",
            "23     V23    0.001892\n",
            "Top 5 Features:\n",
            "    Feature  Importance\n",
            "14     V14    0.214687\n",
            "10     V10    0.126975\n",
            "12     V12    0.107780\n",
            "4       V4    0.104133\n",
            "17     V17    0.087522\n"
          ]
        },
        {
          "output_type": "display_data",
          "data": {
            "text/plain": [
              "<Figure size 1200x1000 with 1 Axes>"
            ],
            "image/png": "[encoded data removed]"
          },
          "metadata": {}
        }
      ],
      "source": [
        "# Feature selection based on feature importances\n",
        "importances = rf_model.feature_importances_\n",
        "feature_names = X.columns  # Use actual feature names if X is a DataFrame\n",
        "\n",
        "# Create a DataFrame to view feature importances\n",
        "importance_df = pd.DataFrame({'Feature': feature_names, 'Importance': importances})\n",
        "importance_df = importance_df.sort_values(by='Importance', ascending=False)\n",
        "\n",
        "# Print feature importances\n",
        "print(\"Feature Importances:\\n\", importance_df)\n",
        "\n",
        "importance_df = importance_df.sort_values(by='Importance', ascending=False)\n",
        "\n",
        "# Select the top 5 features\n",
        "top_features = importance_df.head(5)\n",
        "print(\"Top 5 Features:\\n\", top_features)\n",
        "\n",
        "# Plotting feature importances\n",
        "plt.figure(figsize=(12, 10))\n",
        "plt.barh(importance_df['Feature'], importance_df['Importance'], color='skyblue')\n",
        "plt.xlabel('Importance')\n",
        "plt.title('Feature Importances')\n",
        "plt.gca().invert_yaxis()  # Invert y-axis to have the most important features at the top\n",
        "plt.show()"
      ]
    },
    {
      "cell_type": "markdown",
      "metadata": {
        "id": "IWr1BIg2uHPJ"
      },
      "source": [
        "# 10. Hyperparameter Tuning\n",
        "Perform Hyperparameter Tuning on threshold adjusted data to check the performance of the model."
      ]
    },
    {
      "cell_type": "code",
      "execution_count": 23,
      "metadata": {
        "colab": {
          "base_uri": "https://localhost:8080/"
        },
        "id": "LhJr99Qij7Nl",
        "outputId": "1d32b08f-cd02-42a3-f5c4-b40d525a3787"
      },
      "outputs": [
        {
          "output_type": "stream",
          "name": "stdout",
          "text": [
            "Fitting 5 folds for each of 4 candidates, totalling 20 fits\n",
            "Best Parameters: {'max_depth': None, 'n_estimators': 100}\n",
            "\n",
            "Classification Report for the Best Model:\n",
            "               precision    recall  f1-score   support\n",
            "\n",
            "           0       1.00      1.00      1.00     50325\n",
            "           1       0.96      0.82      0.88        84\n",
            "\n",
            "    accuracy                           1.00     50409\n",
            "   macro avg       0.98      0.91      0.94     50409\n",
            "weighted avg       1.00      1.00      1.00     50409\n",
            "\n",
            "Best Model ROC AUC Score: 0.9720643200151396\n"
          ]
        }
      ],
      "source": [
        "from sklearn.model_selection import GridSearchCV\n",
        "from sklearn.metrics import classification_report, confusion_matrix\n",
        "\n",
        "# Set up GridSearchCV\n",
        "param_grid = {\n",
        "    'n_estimators': [100],\n",
        "    'max_depth': [None, 10, 20, 30]\n",
        "}\n",
        "\n",
        "# Set up GridSearchCV\n",
        "grid_search = GridSearchCV(estimator=rf_model, param_grid=param_grid,\n",
        "                           cv=5, n_jobs=-1, verbose=2, scoring='f1')\n",
        "\n",
        "# Fit GridSearchCV\n",
        "grid_search.fit(X_resampled_scaled, y_resampled)\n",
        "\n",
        "# Get the best parameters\n",
        "best_params = grid_search.best_params_\n",
        "print(\"Best Parameters:\", best_params)\n",
        "\n",
        "# Fit the model with the best parameters\n",
        "best_model = grid_search.best_estimator_\n",
        "\n",
        "# Predictions\n",
        "y_probs_best = best_model.predict_proba(X_test_scaled)[:, 1]\n",
        "y_pred_best = (y_probs_best >= best_threshold).astype(int)\n",
        "\n",
        "# Print classification report\n",
        "print(\"\\nClassification Report for the Best Model:\\n\", classification_report(y_test, y_pred_best))\n",
        "\n",
        "# Calculate ROC AUC for the best model\n",
        "roc_auc_best = roc_auc_score(y_test, y_probs_best)\n",
        "print(f\"Best Model ROC AUC Score: {roc_auc_best}\")"
      ]
    },
    {
      "cell_type": "code",
      "execution_count": 24,
      "metadata": {
        "id": "Y0FwgXCCu_Wv",
        "colab": {
          "base_uri": "https://localhost:8080/",
          "height": 564
        },
        "outputId": "ef454d9d-fea5-4ac2-a909-eef0ef14bee4"
      },
      "outputs": [
        {
          "output_type": "display_data",
          "data": {
            "text/plain": [
              "<Figure size 800x600 with 1 Axes>"
            ],
            "image/png": "[encoded data removed]"
          },
          "metadata": {}
        }
      ],
      "source": [
        "# Confusion Matrix after hyperparameter tuning\n",
        "conf_matrix = confusion_matrix(y_test, y_pred_best)\n",
        "\n",
        "plt.figure(figsize=(8, 6))\n",
        "sns.heatmap(conf_matrix, annot=True, fmt='d', cmap='Blues', cbar=False,\n",
        "            xticklabels=['Predicted 0', 'Predicted 1'],\n",
        "            yticklabels=['Actual 0', 'Actual 1'])\n",
        "plt.title('Confusion Matrix')\n",
        "plt.ylabel('Actual')\n",
        "plt.xlabel('Predicted')\n",
        "plt.show()"
      ]
    },
    {
      "cell_type": "markdown",
      "source": [
        "* True Negatives (50322): The model correctly predicted the negative class.\n",
        "* False Positives (3): The model incorrectly predicted the positive class when it was actually negative.\n",
        "* False Negatives (15): The model incorrectly predicted the negative class when it was actually positive.\n",
        "* True Positives (69): The model correctly predicted the positive class.\n",
        "\n",
        "In summary, this confusion matrix would reflect very high numbers of true negatives and true positives but relatively much smaller numbers for the false positives and false negatives, which might indicate that it is doing pretty well in telling the difference between the two classes."
      ],
      "metadata": {
        "id": "mZPlADiJnI4t"
      }
    },
    {
      "cell_type": "markdown",
      "metadata": {
        "id": "4CLR-6w4uO7g"
      },
      "source": [
        "As we can predict from the classification report, the model performance is enhanced after hyperparameter tuning."
      ]
    },
    {
      "cell_type": "markdown",
      "metadata": {
        "id": "Tr_2gpsWuQ6J"
      },
      "source": [
        "# 11. Download Pickle file"
      ]
    },
    {
      "cell_type": "code",
      "execution_count": 25,
      "metadata": {
        "id": "PrOR5kRTuMde",
        "colab": {
          "base_uri": "https://localhost:8080/",
          "height": 17
        },
        "outputId": "a18c0203-70cb-4a30-e27e-efeab086e12f"
      },
      "outputs": [
        {
          "output_type": "display_data",
          "data": {
            "text/plain": [
              "<IPython.core.display.Javascript object>"
            ],
            "application/javascript": [
              "\n",
              "    async function download(id, filename, size) {\n",
              "      if (!google.colab.kernel.accessAllowed) {\n",
              "        return;\n",
              "      }\n",
              "      const div = document.createElement('div');\n",
              "      const label = document.createElement('label');\n",
              "      label.textContent = `Downloading \"${filename}\": `;\n",
              "      div.appendChild(label);\n",
              "      const progress = document.createElement('progress');\n",
              "      progress.max = size;\n",
              "      div.appendChild(progress);\n",
              "      document.body.appendChild(div);\n",
              "\n",
              "      const buffers = [];\n",
              "      let downloaded = 0;\n",
              "\n",
              "      const channel = await google.colab.kernel.comms.open(id);\n",
              "      // Send a message to notify the kernel that we're ready.\n",
              "      channel.send({})\n",
              "\n",
              "      for await (const message of channel.messages) {\n",
              "        // Send a message to notify the kernel that we're ready.\n",
              "        channel.send({})\n",
              "        if (message.buffers) {\n",
              "          for (const buffer of message.buffers) {\n",
              "            buffers.push(buffer);\n",
              "            downloaded += buffer.byteLength;\n",
              "            progress.value = downloaded;\n",
              "          }\n",
              "        }\n",
              "      }\n",
              "      const blob = new Blob(buffers, {type: 'application/binary'});\n",
              "      const a = document.createElement('a');\n",
              "      a.href = window.URL.createObjectURL(blob);\n",
              "      a.download = filename;\n",
              "      div.appendChild(a);\n",
              "      a.click();\n",
              "      div.remove();\n",
              "    }\n",
              "  "
            ]
          },
          "metadata": {}
        },
        {
          "output_type": "display_data",
          "data": {
            "text/plain": [
              "<IPython.core.display.Javascript object>"
            ],
            "application/javascript": [
              "download(\"download_7ae1d4ee-6a30-4753-901d-90074d258dfa\", \"rf_model.pkl\", 3663622)"
            ]
          },
          "metadata": {}
        }
      ],
      "source": [
        "from google.colab import files\n",
        "\n",
        "# Save your model as a pickle file\n",
        "import pickle\n",
        "\n",
        "filename = 'rf_model.pkl'\n",
        "with open(filename, 'wb') as file:\n",
        "    pickle.dump(rf_model, file)\n",
        "\n",
        "# Download the pickle file\n",
        "files.download(filename)\n"
      ]
    }
  ],
  "metadata": {
    "colab": {
      "provenance": []
    },
    "kernelspec": {
      "display_name": "Python 3",
      "name": "python3"
    },
    "language_info": {
      "name": "python"
    }
  },
  "nbformat": 4,
  "nbformat_minor": 0
}